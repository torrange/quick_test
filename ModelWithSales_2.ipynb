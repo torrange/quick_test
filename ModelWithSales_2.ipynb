{
 "metadata": {
  "name": "",
  "signature": "sha256:2477e04ce80e8e7431028c2eda0745e0d67fd74c5298bb4af0fe5d97de3a8ee6"
 },
 "nbformat": 3,
 "nbformat_minor": 0,
 "worksheets": [
  {
   "cells": [
    {
     "cell_type": "heading",
     "level": 2,
     "metadata": {},
     "source": [
      "Model with Sales"
     ]
    },
    {
     "cell_type": "raw",
     "metadata": {},
     "source": [
      "Assumes a starting monthly-revenue of \u00a30.00,  a fixed monthly-expenditure of \u00a342000.00, monthly revenue accruing at a fixed-rate of \u00a33000.00 per-month with an additional \u00a327000.00 per-month obtained from one-off upfront costs. No adjustment for churn or increase in service-level is included. "
     ]
    },
    {
     "cell_type": "code",
     "collapsed": false,
     "input": [
      "%matplotlib inline\n",
      "from matplotlib import pyplot as plt"
     ],
     "language": "python",
     "metadata": {},
     "outputs": [],
     "prompt_number": 58
    },
    {
     "cell_type": "code",
     "collapsed": false,
     "input": [
      "class Model_WithSales:\n",
      "    def __init__(self):\n",
      "        \n",
      "        self.x_axis = []\n",
      "        self.y_axis = []\n",
      "        \n",
      "        self.running_total_upfront = 0.0\n",
      "        self.running_total_loss = 0.0\n",
      "        self.running_monthly_revenue = 0.0\n",
      "        \n",
      "        self.current_monthly_revenue = 0.0\n",
      "        \n",
      "        self.added_revenue = 3000.0\n",
      "        self.spent_revenue = 42000.0\n",
      "        self.upfront_revenue = 27000.00\n",
      "        \n",
      "        \n",
      "    def time_series(self):\n",
      "        for i in range(0,24):\n",
      "            self.running_monthly_revenue += self.current_monthly_revenue\n",
      "            self.running_total_loss += 42000.00\n",
      "            \n",
      "            self.b = (self.running_monthly_revenue + self.running_total_upfront - self.running_total_loss)\n",
      "            \n",
      "            self.x_axis.append(i+1)\n",
      "            self.y_axis.append(self.b)      \n",
      "            \n",
      "            self.running_total_upfront += self.upfront_revenue\n",
      "            self.current_monthly_revenue += self.added_revenue   \n",
      "            \n",
      "        return self.x_axis, self.y_axis"
     ],
     "language": "python",
     "metadata": {},
     "outputs": [],
     "prompt_number": 59
    },
    {
     "cell_type": "code",
     "collapsed": false,
     "input": [
      "x,y = Model_WithSales().time_series()"
     ],
     "language": "python",
     "metadata": {},
     "outputs": [],
     "prompt_number": 60
    },
    {
     "cell_type": "code",
     "collapsed": false,
     "input": [
      "plt.plot(x,y)\n",
      "plt.xlim(0)\n",
      "plt.ylim(-78000)\n",
      "plt.xlabel(\"month\")\n",
      "plt.ylabel(\"revenue GBP\")\n",
      "plt.title(\"revenue growth over 24 months\")"
     ],
     "language": "python",
     "metadata": {},
     "outputs": [
      {
       "metadata": {},
       "output_type": "pyout",
       "prompt_number": 61,
       "text": [
        "<matplotlib.text.Text at 0x7fbd784ad590>"
       ]
      },
      {
       "metadata": {},
       "output_type": "display_data",
       "png": "[encoded data removed]",
       "text": [
        "<matplotlib.figure.Figure at 0x7fbd78565f90>"
       ]
      }
     ],
     "prompt_number": 61
    }
   ],
   "metadata": {}
  }
 ]
}