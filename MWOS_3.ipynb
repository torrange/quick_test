{
 "metadata": {
  "name": "",
  "signature": "sha256:62e7460f0aa9594bb8987b429ceba767c1a24afc53bb805147f36af9610aae66"
 },
 "nbformat": 3,
 "nbformat_minor": 0,
 "worksheets": [
  {
   "cells": [
    {
     "cell_type": "heading",
     "level": 2,
     "metadata": {},
     "source": [
      "MWOS"
     ]
    },
    {
     "cell_type": "raw",
     "metadata": {},
     "source": [
      "5 a week, 20 a month for 3 months\n",
      "then 10 a week, 40 a month next 3 months\n",
      "then 15 a week, 60 a month\n",
      "then 20 a week 80 a month#\n",
      "\n",
      "\n",
      "__________________\n",
      "\n",
      "\u00a3300 upfront each\n",
      "and adding \u00a315 per month recurring\n",
      "each\n",
      "\n",
      "__________________\n",
      "\n",
      "\n",
      "Assumes a starting monthly-revenue of \u00a30.00,  a fixed monthly-expenditure of \u00a342000.00, monthly revenue accruing at a fixed-rate of \u00a33000.00 per-month with an additional \u00a327000.00 per-month obtained from one-off upfront costs. No adjustment for churn or increase in service-level is included. "
     ]
    },
    {
     "cell_type": "code",
     "collapsed": false,
     "input": [
      "%matplotlib inline\n",
      "from matplotlib import pyplot as plt\n",
      "from scipy.stats import linregress"
     ],
     "language": "python",
     "metadata": {},
     "outputs": [],
     "prompt_number": 21
    },
    {
     "cell_type": "code",
     "collapsed": false,
     "input": [
      "class Model_WithoutSales:\n",
      "    def __init__(self):\n",
      "        \n",
      "        self.x_axis = []\n",
      "        self.y_axis = []\n",
      "        \n",
      "        self.running_total_upfront = 0.0\n",
      "        self.running_total_loss = 0.0\n",
      "        self.running_monthly_revenue = 0.0\n",
      "        \n",
      "        self.current_monthly_revenue = 0.0\n",
      "        \n",
      "        self.added_revenue = 750.0\n",
      "        self.spent_revenue = 0.0\n",
      "        self.upfront_revenue = 0.0#27000.00\n",
      "\n",
      "        self.slope = None\n",
      "        self.intercept = None\n",
      "        self.r_number = None\n",
      "        self.p_number = None\n",
      "        self.std_error = None\n",
      "        \n",
      "        \n",
      "    def time_series(self):\n",
      "        for i in range(0,24):\n",
      "            week_counter = 0\n",
      "            self.running_monthly_revenue += self.current_monthly_revenue\n",
      "            self.running_total_loss += 0.0\n",
      "            \n",
      "            self.b = (self.running_monthly_revenue + self.running_total_upfront - self.running_total_loss)\n",
      "            \n",
      "            self.x_axis.append(i+1)\n",
      "            self.y_axis.append(self.b)      \n",
      "            \n",
      "            self.running_total_upfront += self.upfront_revenue\n",
      "            self.current_monthly_revenue += self.added_revenue\n",
      "            \n",
      "        return self.x_axis, self.y_axis\n",
      "    \n",
      "    \n",
      "    def lin_regress(self, x, y):\n",
      "        l = linregress(x, y)\n",
      "        return l"
     ],
     "language": "python",
     "metadata": {},
     "outputs": [],
     "prompt_number": 26
    },
    {
     "cell_type": "code",
     "collapsed": false,
     "input": [
      "m =  Model_WithoutSales()\n",
      "x, y = m.time_series()"
     ],
     "language": "python",
     "metadata": {},
     "outputs": [],
     "prompt_number": 27
    },
    {
     "cell_type": "code",
     "collapsed": false,
     "input": [
      "plt.plot(x,y)\n",
      "plt.xlim(0)\n",
      "plt.ylim(-10)\n",
      "plt.xlabel(\"month\")\n",
      "plt.ylabel(\"revenue GBP\")\n",
      "plt.title(\"revenue growth over 24 months\")"
     ],
     "language": "python",
     "metadata": {},
     "outputs": [
      {
       "metadata": {},
       "output_type": "pyout",
       "prompt_number": 29,
       "text": [
        "<matplotlib.text.Text at 0x7fb79aa6ff90>"
       ]
      },
      {
       "metadata": {},
       "output_type": "display_data",
       "png": "[encoded data removed]",
       "text": [
        "<matplotlib.figure.Figure at 0x7fb79ac4e150>"
       ]
      }
     ],
     "prompt_number": 29
    },
    {
     "cell_type": "code",
     "collapsed": false,
     "input": [
      "slope, intercept = m.lin_regress(x,y)[0], m.lin_regress(x,y)[1]"
     ],
     "language": "python",
     "metadata": {},
     "outputs": [],
     "prompt_number": 30
    }
   ],
   "metadata": {}
  }
 ]
}