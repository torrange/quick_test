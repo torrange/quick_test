{
 "metadata": {
  "name": "",
  "signature": "sha256:7a5c96469822c5107d10812f0ce3e648599f0622d01d4e2d354fc8d42942b3c6"
 },
 "nbformat": 3,
 "nbformat_minor": 0,
 "worksheets": [
  {
   "cells": [
    {
     "cell_type": "code",
     "collapsed": false,
     "input": [
      "import matplotlib as mpl"
     ],
     "language": "python",
     "metadata": {},
     "outputs": [],
     "prompt_number": 23
    },
    {
     "cell_type": "heading",
     "level": 2,
     "metadata": {},
     "source": [
      "Model with Sales"
     ]
    },
    {
     "cell_type": "raw",
     "metadata": {},
     "source": [
      "Assumes a starting monthly revenue of \u00a30.00,  a total monthly-expenditure of \u00a342000.00, accruing by a fixed-rate of \u00a330000.00 per-month. No churn included."
     ]
    },
    {
     "cell_type": "code",
     "collapsed": false,
     "input": [
      "class Model_WithSales(object):\n",
      "    def __init__(self):\n",
      "        self.months = [\"Jan\", \"Feb\", \"Mar\", \"Apr\", \"May\", \"Jun\", \"Jul\", \"Aug\", \"Sep\", \"Oct\", \"Nov\", \"Dec\"]\n",
      "        self.current_monthly_revenue = 0.0\n",
      "        self.added_revenue = 30000.0\n",
      "        self.spent_revenue = 42000.0\n",
      "        \n",
      "    def time_series(self):\n",
      "        model = {}\n",
      "        for i in range(0,12):\n",
      "            \n",
      "            result_vars = (self.months[i],self.current_monthly_revenue, (self.current_monthly_revenue-self.spent_revenue),self.added_revenue,)\n",
      "            print \"%s:\\n\\tstarting monthly-revenue: \u00a3%.2f\\n\\tmonthly-revenue minus outgoings : \u00a3%s\\n\\tmonthly-revenue increase: +\u00a3%s\\n\" % result_vars \n",
      "            self.current_monthly_revenue += self.added_revenue"
     ],
     "language": "python",
     "metadata": {},
     "outputs": [],
     "prompt_number": 88
    },
    {
     "cell_type": "code",
     "collapsed": false,
     "input": [
      "Model_WithSales().time_series()"
     ],
     "language": "python",
     "metadata": {},
     "outputs": [
      {
       "output_type": "stream",
       "stream": "stdout",
       "text": [
        "Jan:\n",
        "\tstarting monthly-revenue: \u00a30.00\n",
        "\tmonthly-revenue minus outgoings : \u00a3-42000.0\n",
        "\tmonthly-revenue increase: +\u00a330000.0\n",
        "\n",
        "Feb:\n",
        "\tstarting monthly-revenue: \u00a330000.00\n",
        "\tmonthly-revenue minus outgoings : \u00a3-12000.0\n",
        "\tmonthly-revenue increase: +\u00a330000.0\n",
        "\n",
        "Mar:\n",
        "\tstarting monthly-revenue: \u00a360000.00\n",
        "\tmonthly-revenue minus outgoings : \u00a318000.0\n",
        "\tmonthly-revenue increase: +\u00a330000.0\n",
        "\n",
        "Apr:\n",
        "\tstarting monthly-revenue: \u00a390000.00\n",
        "\tmonthly-revenue minus outgoings : \u00a348000.0\n",
        "\tmonthly-revenue increase: +\u00a330000.0\n",
        "\n",
        "May:\n",
        "\tstarting monthly-revenue: \u00a3120000.00\n",
        "\tmonthly-revenue minus outgoings : \u00a378000.0\n",
        "\tmonthly-revenue increase: +\u00a330000.0\n",
        "\n",
        "Jun:\n",
        "\tstarting monthly-revenue: \u00a3150000.00\n",
        "\tmonthly-revenue minus outgoings : \u00a3108000.0\n",
        "\tmonthly-revenue increase: +\u00a330000.0\n",
        "\n",
        "Jul:\n",
        "\tstarting monthly-revenue: \u00a3180000.00\n",
        "\tmonthly-revenue minus outgoings : \u00a3138000.0\n",
        "\tmonthly-revenue increase: +\u00a330000.0\n",
        "\n",
        "Aug:\n",
        "\tstarting monthly-revenue: \u00a3210000.00\n",
        "\tmonthly-revenue minus outgoings : \u00a3168000.0\n",
        "\tmonthly-revenue increase: +\u00a330000.0\n",
        "\n",
        "Sep:\n",
        "\tstarting monthly-revenue: \u00a3240000.00\n",
        "\tmonthly-revenue minus outgoings : \u00a3198000.0\n",
        "\tmonthly-revenue increase: +\u00a330000.0\n",
        "\n",
        "Oct:\n",
        "\tstarting monthly-revenue: \u00a3270000.00\n",
        "\tmonthly-revenue minus outgoings : \u00a3228000.0\n",
        "\tmonthly-revenue increase: +\u00a330000.0\n",
        "\n",
        "Nov:\n",
        "\tstarting monthly-revenue: \u00a3300000.00\n",
        "\tmonthly-revenue minus outgoings : \u00a3258000.0\n",
        "\tmonthly-revenue increase: +\u00a330000.0\n",
        "\n",
        "Dec:\n",
        "\tstarting monthly-revenue: \u00a3330000.00\n",
        "\tmonthly-revenue minus outgoings : \u00a3288000.0\n",
        "\tmonthly-revenue increase: +\u00a330000.0\n",
        "\n"
       ]
      }
     ],
     "prompt_number": 89
    },
    {
     "cell_type": "code",
     "collapsed": false,
     "input": [],
     "language": "python",
     "metadata": {},
     "outputs": [],
     "prompt_number": 34
    },
    {
     "cell_type": "code",
     "collapsed": false,
     "input": [],
     "language": "python",
     "metadata": {},
     "outputs": []
    }
   ],
   "metadata": {}
  }
 ]
}