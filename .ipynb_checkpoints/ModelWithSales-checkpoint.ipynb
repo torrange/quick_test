{
 "metadata": {
  "name": "",
  "signature": "sha256:0ef60a85ea67d38476152bc4fa9e5c1cbaef68ecb756b8e26c92dbe30abddcc8"
 },
 "nbformat": 3,
 "nbformat_minor": 0,
 "worksheets": [
  {
   "cells": [
    {
     "cell_type": "heading",
     "level": 2,
     "metadata": {},
     "source": [
      "Model with Sales"
     ]
    },
    {
     "cell_type": "raw",
     "metadata": {},
     "source": [
      "Assumes a starting monthly-revenue of \u00a30.00,  a fixed monthly-expenditure of \u00a342000.00. Monthly revenue accrues by a fixed-rate of \u00a33000.00 per-month with an additional \u00a327000.00 per-month obtained from one-off upfront costs. No churn is included, neither is an increase in service demands."
     ]
    },
    {
     "cell_type": "code",
     "collapsed": false,
     "input": [
      "from matplotlib import pyplot as plt"
     ],
     "language": "python",
     "metadata": {},
     "outputs": [],
     "prompt_number": 59
    },
    {
     "cell_type": "code",
     "collapsed": false,
     "input": [
      "class Model_WithSales:\n",
      "    def __init__(self):\n",
      "        \n",
      "        self.x_axis = []\n",
      "        self.y_axis = []\n",
      "        \n",
      "        self.running_total_upfront = 0.0\n",
      "        self.running_total_loss = 0.0\n",
      "        self.running_monthly_revenue = 0.0\n",
      "        \n",
      "        self.current_monthly_revenue = 0.0\n",
      "        \n",
      "        self.added_revenue = 3000.0\n",
      "        self.spent_revenue = 42000.0\n",
      "        self.upfront_revenue = 27000.00\n",
      "        \n",
      "        \n",
      "    def time_series(self):\n",
      "        for i in range(0,36):\n",
      "            self.running_monthly_revenue += self.current_monthly_revenue\n",
      "            self.running_total_loss += 42000.00\n",
      "            \n",
      "            self.b = (self.running_monthly_revenue + self.running_total_upfront - self.running_total_loss)\n",
      "            self.x_axis.append(i+1)\n",
      "            self.y_axis.append(self.b)\n",
      "            \n",
      "            #print \"Month %d 'balance': \u00a3%.2f\\n\\t\" % ((i+1), self.running_monthly_revenue + self.running_total_upfront - self.running_total_loss) \n",
      "            self.running_total_upfront += self.upfront_revenue\n",
      "            self.current_monthly_revenue += self.added_revenue   \n",
      "            \n",
      "        return self.x_axis, self.y_axis"
     ],
     "language": "python",
     "metadata": {},
     "outputs": [],
     "prompt_number": 60
    },
    {
     "cell_type": "code",
     "collapsed": false,
     "input": [
      "x,y = Model_WithSales().time_series()"
     ],
     "language": "python",
     "metadata": {},
     "outputs": [],
     "prompt_number": 61
    },
    {
     "cell_type": "code",
     "collapsed": false,
     "input": [
      "plt.plot(x,y)\n",
      "plt.xlabel(\"month\")\n",
      "plt.ylabel(\"revenue GBP\")\n",
      "plt.xlim(0)\n",
      "plt.ylim(-150000)"
     ],
     "language": "python",
     "metadata": {},
     "outputs": [
      {
       "metadata": {},
       "output_type": "pyout",
       "prompt_number": 62,
       "text": [
        "(-150000, 1400000.0)"
       ]
      },
      {
       "metadata": {},
       "output_type": "display_data",
       "png": "[encoded data removed]",
       "text": [
        "<matplotlib.figure.Figure at 0x7fc4b4664a50>"
       ]
      }
     ],
     "prompt_number": 62
    },
    {
     "cell_type": "code",
     "collapsed": false,
     "input": [
      "%matplotlib inline"
     ],
     "language": "python",
     "metadata": {},
     "outputs": [],
     "prompt_number": 41
    },
    {
     "cell_type": "code",
     "collapsed": false,
     "input": [],
     "language": "python",
     "metadata": {},
     "outputs": []
    }
   ],
   "metadata": {}
  }
 ]
}